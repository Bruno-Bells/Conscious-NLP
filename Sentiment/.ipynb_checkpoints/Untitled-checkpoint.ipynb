{
 "cells": [
  {
   "cell_type": "code",
   "execution_count": null,
   "metadata": {},
   "outputs": [],
   "source": [
    "from textblob import TextBlob\n",
    "import pandas as pd\n",
    "import numpy as np\n",
    "import re"
   ]
  },
  {
   "cell_type": "code",
   "execution_count": null,
   "metadata": {},
   "outputs": [],
   "source": [
    "data = pd.read_csv(\"dataset/cookie_reviews.csv\") "
   ]
  },
  {
   "cell_type": "code",
   "execution_count": null,
   "metadata": {},
   "outputs": [],
   "source": [
    "print(data.head(10))"
   ]
  },
  {
   "cell_type": "code",
   "execution_count": null,
   "metadata": {},
   "outputs": [],
   "source": [
    "review = data['reviews']"
   ]
  },
  {
   "cell_type": "code",
   "execution_count": null,
   "metadata": {},
   "outputs": [],
   "source": [
    "def reviews_analyzer(review):\n",
    "    rview = []\n",
    "    for i in  review:\n",
    "        r_view = ' '.join(re.sub(\"(@[A-Za-z0-9]+)|([^0-9A-Za-z \\t])|(\\w+:\\/\\/\\S+)\", \" \", i).split())\n",
    "        r_view = TextBlob(r_view)\n",
    "        r_view = r_view.sentiment.polarity\n",
    "        \n",
    "        rview.append(r_view)\n",
    "    return rview"
   ]
  },
  {
   "cell_type": "code",
   "execution_count": null,
   "metadata": {},
   "outputs": [],
   "source": [
    "import pandas as pd \n",
    "\n",
    "userID = []\n",
    "rating = []\n",
    "list_reviews = []\n",
    "\n",
    "\n",
    "for index, row in data.iterrows():\n",
    "    userID.append(row[0])\n",
    "    rating.append(row[1])\n",
    "    list_reviews.append(row[2])\n",
    "\n",
    "dataa = {'user_id':userID, 'stars':rating, 'reviews': list_reviews, 'polarity':reviews_analyzer(review)} \n",
    "  \n",
    "# Creates pandas DataFrame. \n",
    "df = pd.DataFrame(dataa) \n",
    "  \n",
    "# print the data \n",
    "df\n",
    "  "
   ]
  },
  {
   "cell_type": "code",
   "execution_count": null,
   "metadata": {},
   "outputs": [],
   "source": [
    "pol = df['polarity']\n",
    "\n",
    "pola = []\n",
    "\n",
    "def analyze(pol):\n",
    "    for i in pol:\n",
    "        if i > 0:\n",
    "            pola.append(1)\n",
    "        \n",
    "        elif i == 0:\n",
    "            pola.append(0)\n",
    "        else:\n",
    "            pola.append(-1)\n",
    "            \n",
    "analyze(pol)\n",
    "pola"
   ]
  },
  {
   "cell_type": "code",
   "execution_count": null,
   "metadata": {},
   "outputs": [],
   "source": [
    "import pandas as pd \n",
    "\n",
    "userID = []\n",
    "rating = []\n",
    "list_reviews = []\n",
    "\n",
    "\n",
    "for index, row in data.iterrows():\n",
    "    userID.append(row[0])\n",
    "    rating.append(row[1])\n",
    "    list_reviews.append(row[2])\n",
    "\n",
    "dataa = {'user_id':userID, 'stars':rating, 'reviews': list_reviews, 'polarity':reviews_analyzer(review), 'Pos_neu_Neg':pola} \n",
    "  \n",
    "# Creates pandas DataFrame. \n",
    "df = pd.DataFrame(dataa) \n",
    "  \n",
    "# print the data \n",
    "df.head(60)\n"
   ]
  },
  {
   "cell_type": "code",
   "execution_count": null,
   "metadata": {},
   "outputs": [],
   "source": []
  }
 ],
 "metadata": {
  "kernelspec": {
   "display_name": "Python 3",
   "language": "python",
   "name": "python3"
  },
  "language_info": {
   "codemirror_mode": {
    "name": "ipython",
    "version": 3
   },
   "file_extension": ".py",
   "mimetype": "text/x-python",
   "name": "python",
   "nbconvert_exporter": "python",
   "pygments_lexer": "ipython3",
   "version": "3.7.3"
  }
 },
 "nbformat": 4,
 "nbformat_minor": 2
}
